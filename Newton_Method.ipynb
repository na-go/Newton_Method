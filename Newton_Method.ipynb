{
 "cells": [
  {
   "cell_type": "code",
   "execution_count": 172,
   "metadata": {},
   "outputs": [],
   "source": [
    "import numpy as np\n",
    "import matplotlib.pyplot as plt\n",
    "import pandas as pd"
   ]
  },
  {
   "cell_type": "code",
   "execution_count": 58,
   "metadata": {},
   "outputs": [],
   "source": [
    "Nmax = 100\n",
    "epsilon = 10**-10"
   ]
  },
  {
   "cell_type": "code",
   "execution_count": 65,
   "metadata": {},
   "outputs": [],
   "source": [
    "def f(x):\n",
    "    return x**3 - 4*x**2 + 13*x/4 - 3/4\n",
    "\n",
    "def g(x):\n",
    "    return 3*x**2 - 8*x + 13/4"
   ]
  },
  {
   "cell_type": "code",
   "execution_count": 72,
   "metadata": {},
   "outputs": [],
   "source": [
    "x = -6.0"
   ]
  },
  {
   "cell_type": "code",
   "execution_count": 161,
   "metadata": {},
   "outputs": [],
   "source": [
    "def Newton_Method(x_initial,x,N = Nmax,epsilon = epsilon):\n",
    "    abs_error = []\n",
    "    for i in range(Nmax):\n",
    "        abs_error.append(abs(x_initial - x))\n",
    "        x_initial = x_initial - f(x_initial)/g(x_initial)\n",
    "        if abs(f(x_initial)) < epsilon:\n",
    "            break\n",
    "    # 近似解と反復回数\n",
    "    print(x_initial,i) \n",
    "    # 絶対誤差\n",
    "    print(abs(x_initial - x))\n",
    "    # 残差\n",
    "    print(abs(f(x_initial)))\n",
    "    return abs_error"
   ]
  },
  {
   "cell_type": "code",
   "execution_count": 162,
   "metadata": {},
   "outputs": [
    {
     "name": "stdout",
     "output_type": "stream",
     "text": [
      "3.000000000000049 6\n",
      "4.884981308350689e-14\n",
      "3.0375701953744283e-13\n"
     ]
    }
   ],
   "source": [
    "abs_error_1 = Newton_Method(6.0,3.0, Nmax, epsilon)"
   ]
  },
  {
   "cell_type": "code",
   "execution_count": 163,
   "metadata": {},
   "outputs": [
    {
     "data": {
      "text/plain": [
       "[3.0,\n",
       " 1.5652173913043477,\n",
       " 0.6809404965191117,\n",
       " 0.20413743347193547,\n",
       " 0.02677800221965576,\n",
       " 0.0005557896001255891,\n",
       " 2.4695695666210327e-07]"
      ]
     },
     "execution_count": 163,
     "metadata": {},
     "output_type": "execute_result"
    }
   ],
   "source": [
    "abs_error_1"
   ]
  },
  {
   "cell_type": "code",
   "execution_count": 164,
   "metadata": {},
   "outputs": [
    {
     "data": {
      "text/plain": [
       "array([  1.09861229,   0.44802472,  -0.38428035,  -1.58896182,\n",
       "        -3.62017454,  -7.49512075, -15.21405178])"
      ]
     },
     "execution_count": 164,
     "metadata": {},
     "output_type": "execute_result"
    }
   ],
   "source": [
    "np.log(abs_error_1)"
   ]
  },
  {
   "cell_type": "code",
   "execution_count": 165,
   "metadata": {},
   "outputs": [
    {
     "data": {
      "text/plain": [
       "Text(0, 0.5, 'Absolute Error')"
      ]
     },
     "execution_count": 165,
     "metadata": {},
     "output_type": "execute_result"
    },
    {
     "data": {
      "image/png": "[encoded data removed]",
      "text/plain": [
       "<Figure size 432x288 with 1 Axes>"
      ]
     },
     "metadata": {
      "needs_background": "light"
     },
     "output_type": "display_data"
    }
   ],
   "source": [
    "plt.rcParams[\"font.family\"] = \"IPAexGothic\"\n",
    "plt.scatter(np.arange(len(abs_error_1)), np.log(abs_error_1))\n",
    "plt.xlabel(\"Number of Iterations\")\n",
    "plt.ylabel(\"Absolute Error\")"
   ]
  },
  {
   "cell_type": "code",
   "execution_count": 166,
   "metadata": {},
   "outputs": [
    {
     "name": "stdout",
     "output_type": "stream",
     "text": [
      "0.4999955244038995 21\n",
      "4.475596100506074e-06\n",
      "5.0077386681834923e-11\n"
     ]
    }
   ],
   "source": [
    "abs_error_2 = Newton_Method(-6.0,0.5, Nmax, epsilon)"
   ]
  },
  {
   "cell_type": "code",
   "execution_count": 167,
   "metadata": {},
   "outputs": [
    {
     "data": {
      "text/plain": [
       "[6.5,\n",
       " 4.112244897959183,\n",
       " 2.5438313053296655,\n",
       " 1.5280642029872977,\n",
       " 0.8858462335608527,\n",
       " 0.49416174450319594,\n",
       " 0.26591591937736175,\n",
       " 0.13905612738484585,\n",
       " 0.07131281590974103,\n",
       " 0.0361440928176629,\n",
       " 0.018199912980647992,\n",
       " 0.009132722371857693,\n",
       " 0.004574656393025955,\n",
       " 0.0022894152161871406,\n",
       " 0.0011452310312992653,\n",
       " 0.000572746580978889,\n",
       " 0.00028640608311192306,\n",
       " 0.0001432112430136967,\n",
       " 7.160767238634236e-05,\n",
       " 3.5804349035606364e-05,\n",
       " 1.790230263837289e-05,\n",
       " 8.95118193000588e-06]"
      ]
     },
     "execution_count": 167,
     "metadata": {},
     "output_type": "execute_result"
    }
   ],
   "source": [
    "abs_error_2"
   ]
  },
  {
   "cell_type": "code",
   "execution_count": 168,
   "metadata": {},
   "outputs": [
    {
     "data": {
      "text/plain": [
       "array([  1.87180218,   1.41396908,   0.93367133,   0.42400171,\n",
       "        -0.12121189,  -0.7048924 ,  -1.32457511,  -1.97287763,\n",
       "        -2.64067922,  -3.32024175,  -4.00633847,  -4.69589145,\n",
       "        -5.38722369,  -6.07945886,  -6.77214889,  -7.46506721,\n",
       "        -8.15809988,  -8.85118979,  -9.54430833, -10.23744119,\n",
       "       -10.93058121, -11.62372498])"
      ]
     },
     "execution_count": 168,
     "metadata": {},
     "output_type": "execute_result"
    }
   ],
   "source": [
    "np.log(abs_error_2)"
   ]
  },
  {
   "cell_type": "code",
   "execution_count": 170,
   "metadata": {},
   "outputs": [
    {
     "data": {
      "text/plain": [
       "Text(0, 0.5, 'Absolute Error')"
      ]
     },
     "execution_count": 170,
     "metadata": {},
     "output_type": "execute_result"
    },
    {
     "data": {
      "image/png": "[encoded data removed]",
      "text/plain": [
       "<Figure size 432x288 with 1 Axes>"
      ]
     },
     "metadata": {
      "needs_background": "light"
     },
     "output_type": "display_data"
    }
   ],
   "source": [
    "x = np.arange(len(abs_error_2))\n",
    "plt.scatter(x,np.log(abs_error_2))\n",
    "plt.xlabel(\"Number of Iterations\")\n",
    "plt.ylabel(\"Absolute Error\")"
   ]
  },
  {
   "cell_type": "code",
   "execution_count": 154,
   "metadata": {},
   "outputs": [],
   "source": [
    "def Newton_Method_Relative(x_initial,x,N = Nmax, epsilon = epsilon):\n",
    "    abs_error = []\n",
    "    for i in range(Nmax):\n",
    "        x_before = x_initial\n",
    "        x_initial = x_initial - f(x_initial)/g(x_initial)\n",
    "        abs_error.append(abs(x_initial - x))\n",
    "        if abs((x_initial - x_before)/x_before) < epsilon:\n",
    "            break\n",
    "    # 近似解と反復回数\n",
    "    print(x_initial,i) \n",
    "    # 絶対誤差\n",
    "    print(abs(x_initial - x))\n",
    "    # 残差\n",
    "    print(abs(f(x_initial)))\n",
    "    return abs_error"
   ]
  },
  {
   "cell_type": "code",
   "execution_count": 156,
   "metadata": {},
   "outputs": [
    {
     "name": "stdout",
     "output_type": "stream",
     "text": [
      "3.0000000000000004 7\n",
      "4.440892098500626e-16\n",
      "5.329070518200751e-15\n"
     ]
    }
   ],
   "source": [
    "abs_error_R_1 = Newton_Method_Relative(6.0,3.0, Nmax, epsilon)"
   ]
  },
  {
   "cell_type": "code",
   "execution_count": 157,
   "metadata": {},
   "outputs": [
    {
     "data": {
      "text/plain": [
       "Text(0, 0.5, 'Absolute Error')"
      ]
     },
     "execution_count": 157,
     "metadata": {},
     "output_type": "execute_result"
    },
    {
     "data": {
      "image/png": "[encoded data removed]",
      "text/plain": [
       "<Figure size 432x288 with 1 Axes>"
      ]
     },
     "metadata": {
      "needs_background": "light"
     },
     "output_type": "display_data"
    }
   ],
   "source": [
    "plt.scatter(np.arange(len(abs_error_R_1)), np.log(abs_error_1))\n",
    "plt.xlabel(\"Number of Iterations\")\n",
    "plt.ylabel(\"Absolute Error\")"
   ]
  },
  {
   "cell_type": "code",
   "execution_count": 158,
   "metadata": {},
   "outputs": [
    {
     "name": "stdout",
     "output_type": "stream",
     "text": [
      "0.5000000012176496 37\n",
      "1.2176496477778187e-09\n",
      "0.0\n"
     ]
    }
   ],
   "source": [
    "abs_error_R_2 = Newton_Method_Relative(-6.0,0.5, Nmax, epsilon)"
   ]
  },
  {
   "cell_type": "code",
   "execution_count": 160,
   "metadata": {},
   "outputs": [
    {
     "data": {
      "text/plain": [
       "<matplotlib.collections.PathCollection at 0x118f6c438>"
      ]
     },
     "execution_count": 160,
     "metadata": {},
     "output_type": "execute_result"
    },
    {
     "data": {
      "image/png": "[encoded data removed]",
      "text/plain": [
       "<Figure size 432x288 with 1 Axes>"
      ]
     },
     "metadata": {
      "needs_background": "light"
     },
     "output_type": "display_data"
    }
   ],
   "source": [
    "x = np.arange(len(abs_error_R_2))\n",
    "plt.scatter(x,np.log(abs_error_R_2))"
   ]
  },
  {
   "cell_type": "code",
   "execution_count": 190,
   "metadata": {},
   "outputs": [],
   "source": [
    "A = pd.DataFrame([np.arange(len(abs_error_1)),np.log(abs_error_1)]).T"
   ]
  },
  {
   "cell_type": "code",
   "execution_count": 191,
   "metadata": {},
   "outputs": [],
   "source": [
    "A.to_csv(\"abs_error_1.csv\")"
   ]
  },
  {
   "cell_type": "code",
   "execution_count": 192,
   "metadata": {},
   "outputs": [
    {
     "data": {
      "text/html": [
       "<div>\n",
       "<style scoped>\n",
       "    .dataframe tbody tr th:only-of-type {\n",
       "        vertical-align: middle;\n",
       "    }\n",
       "\n",
       "    .dataframe tbody tr th {\n",
       "        vertical-align: top;\n",
       "    }\n",
       "\n",
       "    .dataframe thead th {\n",
       "        text-align: right;\n",
       "    }\n",
       "</style>\n",
       "<table border=\"1\" class=\"dataframe\">\n",
       "  <thead>\n",
       "    <tr style=\"text-align: right;\">\n",
       "      <th></th>\n",
       "      <th>0</th>\n",
       "      <th>1</th>\n",
       "    </tr>\n",
       "  </thead>\n",
       "  <tbody>\n",
       "    <tr>\n",
       "      <th>0</th>\n",
       "      <td>0.0</td>\n",
       "      <td>1.098612</td>\n",
       "    </tr>\n",
       "    <tr>\n",
       "      <th>1</th>\n",
       "      <td>1.0</td>\n",
       "      <td>0.448025</td>\n",
       "    </tr>\n",
       "    <tr>\n",
       "      <th>2</th>\n",
       "      <td>2.0</td>\n",
       "      <td>-0.384280</td>\n",
       "    </tr>\n",
       "    <tr>\n",
       "      <th>3</th>\n",
       "      <td>3.0</td>\n",
       "      <td>-1.588962</td>\n",
       "    </tr>\n",
       "    <tr>\n",
       "      <th>4</th>\n",
       "      <td>4.0</td>\n",
       "      <td>-3.620175</td>\n",
       "    </tr>\n",
       "    <tr>\n",
       "      <th>5</th>\n",
       "      <td>5.0</td>\n",
       "      <td>-7.495121</td>\n",
       "    </tr>\n",
       "    <tr>\n",
       "      <th>6</th>\n",
       "      <td>6.0</td>\n",
       "      <td>-15.214052</td>\n",
       "    </tr>\n",
       "  </tbody>\n",
       "</table>\n",
       "</div>"
      ],
      "text/plain": [
       "     0          1\n",
       "0  0.0   1.098612\n",
       "1  1.0   0.448025\n",
       "2  2.0  -0.384280\n",
       "3  3.0  -1.588962\n",
       "4  4.0  -3.620175\n",
       "5  5.0  -7.495121\n",
       "6  6.0 -15.214052"
      ]
     },
     "execution_count": 192,
     "metadata": {},
     "output_type": "execute_result"
    }
   ],
   "source": [
    "A"
   ]
  },
  {
   "cell_type": "code",
   "execution_count": 196,
   "metadata": {},
   "outputs": [],
   "source": [
    "x = np.arange(len(abs_error_2))\n",
    "B = pd.DataFrame([x,np.log(abs_error_2)]).T"
   ]
  },
  {
   "cell_type": "code",
   "execution_count": 197,
   "metadata": {},
   "outputs": [],
   "source": [
    "B.to_csv(\"abs_error_2.csv\")"
   ]
  },
  {
   "cell_type": "code",
   "execution_count": 198,
   "metadata": {},
   "outputs": [
    {
     "data": {
      "text/html": [
       "<div>\n",
       "<style scoped>\n",
       "    .dataframe tbody tr th:only-of-type {\n",
       "        vertical-align: middle;\n",
       "    }\n",
       "\n",
       "    .dataframe tbody tr th {\n",
       "        vertical-align: top;\n",
       "    }\n",
       "\n",
       "    .dataframe thead th {\n",
       "        text-align: right;\n",
       "    }\n",
       "</style>\n",
       "<table border=\"1\" class=\"dataframe\">\n",
       "  <thead>\n",
       "    <tr style=\"text-align: right;\">\n",
       "      <th></th>\n",
       "      <th>0</th>\n",
       "      <th>1</th>\n",
       "    </tr>\n",
       "  </thead>\n",
       "  <tbody>\n",
       "    <tr>\n",
       "      <th>0</th>\n",
       "      <td>0.0</td>\n",
       "      <td>1.871802</td>\n",
       "    </tr>\n",
       "    <tr>\n",
       "      <th>1</th>\n",
       "      <td>1.0</td>\n",
       "      <td>1.413969</td>\n",
       "    </tr>\n",
       "    <tr>\n",
       "      <th>2</th>\n",
       "      <td>2.0</td>\n",
       "      <td>0.933671</td>\n",
       "    </tr>\n",
       "    <tr>\n",
       "      <th>3</th>\n",
       "      <td>3.0</td>\n",
       "      <td>0.424002</td>\n",
       "    </tr>\n",
       "    <tr>\n",
       "      <th>4</th>\n",
       "      <td>4.0</td>\n",
       "      <td>-0.121212</td>\n",
       "    </tr>\n",
       "    <tr>\n",
       "      <th>5</th>\n",
       "      <td>5.0</td>\n",
       "      <td>-0.704892</td>\n",
       "    </tr>\n",
       "    <tr>\n",
       "      <th>6</th>\n",
       "      <td>6.0</td>\n",
       "      <td>-1.324575</td>\n",
       "    </tr>\n",
       "    <tr>\n",
       "      <th>7</th>\n",
       "      <td>7.0</td>\n",
       "      <td>-1.972878</td>\n",
       "    </tr>\n",
       "    <tr>\n",
       "      <th>8</th>\n",
       "      <td>8.0</td>\n",
       "      <td>-2.640679</td>\n",
       "    </tr>\n",
       "    <tr>\n",
       "      <th>9</th>\n",
       "      <td>9.0</td>\n",
       "      <td>-3.320242</td>\n",
       "    </tr>\n",
       "    <tr>\n",
       "      <th>10</th>\n",
       "      <td>10.0</td>\n",
       "      <td>-4.006338</td>\n",
       "    </tr>\n",
       "    <tr>\n",
       "      <th>11</th>\n",
       "      <td>11.0</td>\n",
       "      <td>-4.695891</td>\n",
       "    </tr>\n",
       "    <tr>\n",
       "      <th>12</th>\n",
       "      <td>12.0</td>\n",
       "      <td>-5.387224</td>\n",
       "    </tr>\n",
       "    <tr>\n",
       "      <th>13</th>\n",
       "      <td>13.0</td>\n",
       "      <td>-6.079459</td>\n",
       "    </tr>\n",
       "    <tr>\n",
       "      <th>14</th>\n",
       "      <td>14.0</td>\n",
       "      <td>-6.772149</td>\n",
       "    </tr>\n",
       "    <tr>\n",
       "      <th>15</th>\n",
       "      <td>15.0</td>\n",
       "      <td>-7.465067</td>\n",
       "    </tr>\n",
       "    <tr>\n",
       "      <th>16</th>\n",
       "      <td>16.0</td>\n",
       "      <td>-8.158100</td>\n",
       "    </tr>\n",
       "    <tr>\n",
       "      <th>17</th>\n",
       "      <td>17.0</td>\n",
       "      <td>-8.851190</td>\n",
       "    </tr>\n",
       "    <tr>\n",
       "      <th>18</th>\n",
       "      <td>18.0</td>\n",
       "      <td>-9.544308</td>\n",
       "    </tr>\n",
       "    <tr>\n",
       "      <th>19</th>\n",
       "      <td>19.0</td>\n",
       "      <td>-10.237441</td>\n",
       "    </tr>\n",
       "    <tr>\n",
       "      <th>20</th>\n",
       "      <td>20.0</td>\n",
       "      <td>-10.930581</td>\n",
       "    </tr>\n",
       "    <tr>\n",
       "      <th>21</th>\n",
       "      <td>21.0</td>\n",
       "      <td>-11.623725</td>\n",
       "    </tr>\n",
       "  </tbody>\n",
       "</table>\n",
       "</div>"
      ],
      "text/plain": [
       "       0          1\n",
       "0    0.0   1.871802\n",
       "1    1.0   1.413969\n",
       "2    2.0   0.933671\n",
       "3    3.0   0.424002\n",
       "4    4.0  -0.121212\n",
       "5    5.0  -0.704892\n",
       "6    6.0  -1.324575\n",
       "7    7.0  -1.972878\n",
       "8    8.0  -2.640679\n",
       "9    9.0  -3.320242\n",
       "10  10.0  -4.006338\n",
       "11  11.0  -4.695891\n",
       "12  12.0  -5.387224\n",
       "13  13.0  -6.079459\n",
       "14  14.0  -6.772149\n",
       "15  15.0  -7.465067\n",
       "16  16.0  -8.158100\n",
       "17  17.0  -8.851190\n",
       "18  18.0  -9.544308\n",
       "19  19.0 -10.237441\n",
       "20  20.0 -10.930581\n",
       "21  21.0 -11.623725"
      ]
     },
     "execution_count": 198,
     "metadata": {},
     "output_type": "execute_result"
    }
   ],
   "source": [
    "B"
   ]
  },
  {
   "cell_type": "code",
   "execution_count": null,
   "metadata": {},
   "outputs": [],
   "source": []
  }
 ],
 "metadata": {
  "kernelspec": {
   "display_name": "Python 3",
   "language": "python",
   "name": "python3"
  },
  "language_info": {
   "codemirror_mode": {
    "name": "ipython",
    "version": 3
   },
   "file_extension": ".py",
   "mimetype": "text/x-python",
   "name": "python",
   "nbconvert_exporter": "python",
   "pygments_lexer": "ipython3",
   "version": "3.6.9"
  }
 },
 "nbformat": 4,
 "nbformat_minor": 4
}
